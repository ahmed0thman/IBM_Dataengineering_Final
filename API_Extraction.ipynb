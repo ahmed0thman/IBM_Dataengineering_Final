{
 "cells": [
  {
   "cell_type": "markdown",
   "metadata": {},
   "source": [
    "## Imports\n",
    "\n",
    "Import any additional libraries you may need here.\n"
   ]
  },
  {
   "cell_type": "code",
   "execution_count": 2,
   "metadata": {},
   "outputs": [],
   "source": [
    "import requests\n",
    "import pandas as pd"
   ]
  },
  {
   "cell_type": "markdown",
   "metadata": {},
   "source": [
    "## Extract Data Using an API\n"
   ]
  },
  {
   "cell_type": "markdown",
   "metadata": {},
   "source": [
    "Using ExchangeRate-API we will extract currency exchange rate data. Use the below steps to get the access key and to get the data. \n",
    "1. Open the url : https://exchangeratesapi.io/ and click on **Get Free API Key**. \n",
    "2. Subscribe for Free plan and Sign-in with the Google Account. \n",
    "3. Once the account is created you will be redirected to https://apilayer.com website.\n",
    "2. Now, click on the **user icon** and click **Account** as shown below:\n",
    "\n",
    "<img src=\"https://cf-courses-data.s3.us.cloud-object-storage.appdomain.cloud/IBMDeveloperSkillsNetwork-PY0221EN-SkillsNetwork/labs/module%206/Final%20Assignment/Images/account.png\">\n",
    "\n",
    "3. Scroll down and you will get the API Key section. Copy the API key and use in the url in Question 1.\n"
   ]
  },
  {
   "cell_type": "markdown",
   "metadata": {},
   "source": [
    "### Call the API\n",
    "irst few characters of the output: \n"
   ]
  },
  {
   "cell_type": "code",
   "execution_count": 3,
   "metadata": {},
   "outputs": [
    {
     "data": {
      "text/plain": [
       "b'{\"success\":true,\"timestamp\":1695880143,\"base\":\"EUR\",\"date\":\"2023-09-28\",\"rates\":{\"AED\":3.857285,\"AFN\":82.345557,\"ALL\":106.764077,\"AMD\":408.67193,\"ANG\":1.899691,\"AOA\":870.60208,\"ARS\":367.560548,\"AUD\":1.647217,\"AWG\":1.890329,\"AZN\":1.802364,\"BAM\":1.953295,\"BBD\":2.12827,\"BDT\":116.230918,\"BGN\":1.954658,\"BHD\":0.395886,\"BIF\":2988.01014,\"BMD\":1.050183,\"BND\":1.444967,\"BOB\":7.283727,\"BRL\":5.296811,\"BSD\":1.054058,\"BTC\":3.9738754e-5,\"BTN\":87.707867,\"BWP\":14.519515,\"BYN\":2.660587,\"BYR\":20583.58669,\"BZD\":2.124675,\"CAD\":1.416849,\"CDF\":2621.257052,\"CHF\":0.967345,\"CLF\":0.034601,\"CLP\":954.752795,\"CNY\":7.67516,\"COP\":4310.266064,\"CRC\":567.582805,\"CUC\":1.050183,\"CUP\":27.829849,\"CVE\":110.122704,\"CZK\":24.352381,\"DJF\":187.679275,\"DKK\":7.456483,\"DOP\":59.774469,\"DZD\":144.450546,\"EGP\":32.456534,\"ERN\":15.752745,\"ETB\":58.313005,\"EUR\":1,\"FJD\":2.379818,\"FKP\":0.865571,\"GBP\":0.86503,\"GEL\":2.809264,\"GGP\":0.865571,\"GHS\":12.20135,\"GIP\":0.865571,\"GMD\":68.262021,\"GNF\":9050.52072,\"GTQ\":8.285294,\"GYD\":220.528192,\"HKD\":8.22057,\"HNL\":25.991158,\"HRK\":7.366728,\"HTG\":142.826805,\"HUF\":392.315836,\"IDR\":16346.885945,\"ILS\":4.040684,\"IMP\":0.865571,\"INR\":87.359158,\"IQD\":1380.429407,\"IRR\":44357.093804,\"ISK\":144.893561,\"JEP\":0.865571,\"JMD\":162.973292,\"JOD\":0.745208,\"JPY\":156.895762,\"KES\":155.317091,\"KGS\":93.161507,\"KHR\":4338.435354,\"KMF\":492.903371,\"KPW\":945.127011,\"KRW\":1424.111164,\"KWD\":0.324811,\"KYD\":0.878373,\"KZT\":505.361803,\"LAK\":21341.626399,\"LBP\":15885.053718,\"LKR\":341.362156,\"LRD\":196.016786,\"LSL\":20.153069,\"LTL\":3.100918,\"LVL\":0.635245,\"LYD\":5.152391,\"MAD\":10.83795,\"MDL\":19.131461,\"MGA\":4792.898081,\"MKD\":61.4918,\"MMK\":2213.581852,\"MNT\":3651.671833,\"MOP\":8.490909,\"MRO\":374.915148,\"MUR\":46.78385,\"MVR\":16.230599,\"MWK\":1149.042605,\"MXN\":18.575228,\"MYR\":4.944281,\"MZN\":66.424022,\"NAD\":20.152826,\"NGN\":821.841861,\"NIO\":38.571078,\"NOK\":11.288743,\"NPR\":140.334002,\"NZD\":1.767558,\"OMR\":0.404322,\"PAB\":1.054063,\"PEN\":3.98282,\"PGK\":3.837133,\"PHP\":59.827858,\"PKR\":303.944843,\"PLN\":4.635875,\"PYG\":7683.145299,\"QAR\":3.823727,\"RON\":4.973982,\"RSD\":117.287572,\"RUB\":101.578912,\"RWF\":1273.346881,\"SAR\":3.939224,\"SBD\":8.789527,\"SCR\":13.697474,\"SDG\":631.498178,\"SEK\":11.619114,\"SGD\":1.44031,\"SHP\":1.27781,\"SLE\":23.878601,\"SLL\":20741.114218,\"SOS\":598.055412,\"SSP\":630.635229,\"SRD\":40.132223,\"STD\":21736.667673,\"SYP\":13653.99408,\"SZL\":20.189297,\"THB\":38.605256,\"TJS\":11.578948,\"TMT\":3.680891,\"TND\":3.346146,\"TOP\":2.515606,\"TRY\":28.730274,\"TTD\":7.154823,\"TWD\":33.864515,\"TZS\":2630.708285,\"UAH\":38.919636,\"UGX\":3957.942233,\"USD\":1.050183,\"UYU\":40.367838,\"UZS\":12841.590016,\"VEF\":3575854.895637,\"VES\":35.924568,\"VND\":25640.217808,\"VUV\":128.338898,\"WST\":2.926063,\"XAF\":655.126067,\"XAG\":0.046627,\"XAU\":0.00056,\"XCD\":2.838172,\"XDR\":0.80098,\"XOF\":655.122952,\"XPF\":119.77338,\"YER\":262.96782,\"ZAR\":20.125713,\"ZMK\":9452.905372,\"ZMW\":21.845979,\"ZWL\":338.158496}}'"
      ]
     },
     "execution_count": 3,
     "metadata": {},
     "output_type": "execute_result"
    }
   ],
   "source": [
    "\n",
    "url = \"http://api.exchangeratesapi.io/v1/latest?base=EUR&access_key=90b253c72cf8fee9ab82ac9ab1901206\"  #Make sure to change ******* to your API key.\n",
    "api_data = requests.get(url).content\n",
    "api_data"
   ]
  },
  {
   "cell_type": "markdown",
   "metadata": {},
   "source": [
    "### Save as DataFrame\n",
    "\n"
   ]
  },
  {
   "cell_type": "code",
   "execution_count": 4,
   "metadata": {},
   "outputs": [],
   "source": [
    "import json"
   ]
  },
  {
   "cell_type": "code",
   "execution_count": 6,
   "metadata": {},
   "outputs": [
    {
     "data": {
      "text/html": [
       "<div>\n",
       "<style scoped>\n",
       "    .dataframe tbody tr th:only-of-type {\n",
       "        vertical-align: middle;\n",
       "    }\n",
       "\n",
       "    .dataframe tbody tr th {\n",
       "        vertical-align: top;\n",
       "    }\n",
       "\n",
       "    .dataframe thead th {\n",
       "        text-align: right;\n",
       "    }\n",
       "</style>\n",
       "<table border=\"1\" class=\"dataframe\">\n",
       "  <thead>\n",
       "    <tr style=\"text-align: right;\">\n",
       "      <th></th>\n",
       "      <th>success</th>\n",
       "      <th>timestamp</th>\n",
       "      <th>base</th>\n",
       "      <th>date</th>\n",
       "      <th>rates</th>\n",
       "    </tr>\n",
       "  </thead>\n",
       "  <tbody>\n",
       "    <tr>\n",
       "      <th>AED</th>\n",
       "      <td>True</td>\n",
       "      <td>1695880143</td>\n",
       "      <td>EUR</td>\n",
       "      <td>2023-09-28</td>\n",
       "      <td>3.857285</td>\n",
       "    </tr>\n",
       "    <tr>\n",
       "      <th>AFN</th>\n",
       "      <td>True</td>\n",
       "      <td>1695880143</td>\n",
       "      <td>EUR</td>\n",
       "      <td>2023-09-28</td>\n",
       "      <td>82.345557</td>\n",
       "    </tr>\n",
       "    <tr>\n",
       "      <th>ALL</th>\n",
       "      <td>True</td>\n",
       "      <td>1695880143</td>\n",
       "      <td>EUR</td>\n",
       "      <td>2023-09-28</td>\n",
       "      <td>106.764077</td>\n",
       "    </tr>\n",
       "    <tr>\n",
       "      <th>AMD</th>\n",
       "      <td>True</td>\n",
       "      <td>1695880143</td>\n",
       "      <td>EUR</td>\n",
       "      <td>2023-09-28</td>\n",
       "      <td>408.671930</td>\n",
       "    </tr>\n",
       "    <tr>\n",
       "      <th>ANG</th>\n",
       "      <td>True</td>\n",
       "      <td>1695880143</td>\n",
       "      <td>EUR</td>\n",
       "      <td>2023-09-28</td>\n",
       "      <td>1.899691</td>\n",
       "    </tr>\n",
       "  </tbody>\n",
       "</table>\n",
       "</div>"
      ],
      "text/plain": [
       "     success   timestamp base        date       rates\n",
       "AED     True  1695880143  EUR  2023-09-28    3.857285\n",
       "AFN     True  1695880143  EUR  2023-09-28   82.345557\n",
       "ALL     True  1695880143  EUR  2023-09-28  106.764077\n",
       "AMD     True  1695880143  EUR  2023-09-28  408.671930\n",
       "ANG     True  1695880143  EUR  2023-09-28    1.899691"
      ]
     },
     "execution_count": 6,
     "metadata": {},
     "output_type": "execute_result"
    }
   ],
   "source": [
    "# Turn the data into a dataframe\n",
    "results = json.loads(api_data)\n",
    "df = pd.DataFrame(results)\n",
    "df.head()"
   ]
  },
  {
   "cell_type": "code",
   "execution_count": 7,
   "metadata": {},
   "outputs": [
    {
     "data": {
      "text/html": [
       "<div>\n",
       "<style scoped>\n",
       "    .dataframe tbody tr th:only-of-type {\n",
       "        vertical-align: middle;\n",
       "    }\n",
       "\n",
       "    .dataframe tbody tr th {\n",
       "        vertical-align: top;\n",
       "    }\n",
       "\n",
       "    .dataframe thead th {\n",
       "        text-align: right;\n",
       "    }\n",
       "</style>\n",
       "<table border=\"1\" class=\"dataframe\">\n",
       "  <thead>\n",
       "    <tr style=\"text-align: right;\">\n",
       "      <th></th>\n",
       "      <th>timestamp</th>\n",
       "      <th>date</th>\n",
       "      <th>rates</th>\n",
       "    </tr>\n",
       "  </thead>\n",
       "  <tbody>\n",
       "    <tr>\n",
       "      <th>AED</th>\n",
       "      <td>1695880143</td>\n",
       "      <td>2023-09-28</td>\n",
       "      <td>3.857285</td>\n",
       "    </tr>\n",
       "    <tr>\n",
       "      <th>AFN</th>\n",
       "      <td>1695880143</td>\n",
       "      <td>2023-09-28</td>\n",
       "      <td>82.345557</td>\n",
       "    </tr>\n",
       "    <tr>\n",
       "      <th>ALL</th>\n",
       "      <td>1695880143</td>\n",
       "      <td>2023-09-28</td>\n",
       "      <td>106.764077</td>\n",
       "    </tr>\n",
       "    <tr>\n",
       "      <th>AMD</th>\n",
       "      <td>1695880143</td>\n",
       "      <td>2023-09-28</td>\n",
       "      <td>408.671930</td>\n",
       "    </tr>\n",
       "    <tr>\n",
       "      <th>ANG</th>\n",
       "      <td>1695880143</td>\n",
       "      <td>2023-09-28</td>\n",
       "      <td>1.899691</td>\n",
       "    </tr>\n",
       "  </tbody>\n",
       "</table>\n",
       "</div>"
      ],
      "text/plain": [
       "      timestamp        date       rates\n",
       "AED  1695880143  2023-09-28    3.857285\n",
       "AFN  1695880143  2023-09-28   82.345557\n",
       "ALL  1695880143  2023-09-28  106.764077\n",
       "AMD  1695880143  2023-09-28  408.671930\n",
       "ANG  1695880143  2023-09-28    1.899691"
      ]
     },
     "execution_count": 7,
     "metadata": {},
     "output_type": "execute_result"
    }
   ],
   "source": [
    "# Drop unnescessary columns\n",
    "df = df.drop(columns=['success', 'base'])\n",
    "df.head()"
   ]
  },
  {
   "cell_type": "code",
   "execution_count": 9,
   "metadata": {},
   "outputs": [],
   "source": [
    "from datetime import datetime"
   ]
  },
  {
   "cell_type": "code",
   "execution_count": 10,
   "metadata": {},
   "outputs": [
    {
     "data": {
      "text/html": [
       "<div>\n",
       "<style scoped>\n",
       "    .dataframe tbody tr th:only-of-type {\n",
       "        vertical-align: middle;\n",
       "    }\n",
       "\n",
       "    .dataframe tbody tr th {\n",
       "        vertical-align: top;\n",
       "    }\n",
       "\n",
       "    .dataframe thead th {\n",
       "        text-align: right;\n",
       "    }\n",
       "</style>\n",
       "<table border=\"1\" class=\"dataframe\">\n",
       "  <thead>\n",
       "    <tr style=\"text-align: right;\">\n",
       "      <th></th>\n",
       "      <th>timestamp</th>\n",
       "      <th>date</th>\n",
       "      <th>rates</th>\n",
       "    </tr>\n",
       "  </thead>\n",
       "  <tbody>\n",
       "    <tr>\n",
       "      <th>AED</th>\n",
       "      <td>2023-09-28 08:49:03</td>\n",
       "      <td>2023-09-28</td>\n",
       "      <td>3.857285</td>\n",
       "    </tr>\n",
       "    <tr>\n",
       "      <th>AFN</th>\n",
       "      <td>2023-09-28 08:49:03</td>\n",
       "      <td>2023-09-28</td>\n",
       "      <td>82.345557</td>\n",
       "    </tr>\n",
       "    <tr>\n",
       "      <th>ALL</th>\n",
       "      <td>2023-09-28 08:49:03</td>\n",
       "      <td>2023-09-28</td>\n",
       "      <td>106.764077</td>\n",
       "    </tr>\n",
       "    <tr>\n",
       "      <th>AMD</th>\n",
       "      <td>2023-09-28 08:49:03</td>\n",
       "      <td>2023-09-28</td>\n",
       "      <td>408.671930</td>\n",
       "    </tr>\n",
       "    <tr>\n",
       "      <th>ANG</th>\n",
       "      <td>2023-09-28 08:49:03</td>\n",
       "      <td>2023-09-28</td>\n",
       "      <td>1.899691</td>\n",
       "    </tr>\n",
       "  </tbody>\n",
       "</table>\n",
       "</div>"
      ],
      "text/plain": [
       "              timestamp        date       rates\n",
       "AED 2023-09-28 08:49:03  2023-09-28    3.857285\n",
       "AFN 2023-09-28 08:49:03  2023-09-28   82.345557\n",
       "ALL 2023-09-28 08:49:03  2023-09-28  106.764077\n",
       "AMD 2023-09-28 08:49:03  2023-09-28  408.671930\n",
       "ANG 2023-09-28 08:49:03  2023-09-28    1.899691"
      ]
     },
     "execution_count": 10,
     "metadata": {},
     "output_type": "execute_result"
    }
   ],
   "source": [
    "df['timestamp'] = df['timestamp'].transform(func= lambda x:datetime.fromtimestamp(int(x)))\n",
    "df.head()"
   ]
  },
  {
   "cell_type": "markdown",
   "metadata": {},
   "source": [
    "### Load the Data\n",
    "\n"
   ]
  },
  {
   "cell_type": "code",
   "execution_count": 11,
   "metadata": {},
   "outputs": [
    {
     "data": {
      "text/html": [
       "<div>\n",
       "<style scoped>\n",
       "    .dataframe tbody tr th:only-of-type {\n",
       "        vertical-align: middle;\n",
       "    }\n",
       "\n",
       "    .dataframe tbody tr th {\n",
       "        vertical-align: top;\n",
       "    }\n",
       "\n",
       "    .dataframe thead th {\n",
       "        text-align: right;\n",
       "    }\n",
       "</style>\n",
       "<table border=\"1\" class=\"dataframe\">\n",
       "  <thead>\n",
       "    <tr style=\"text-align: right;\">\n",
       "      <th></th>\n",
       "      <th>rates</th>\n",
       "    </tr>\n",
       "  </thead>\n",
       "  <tbody>\n",
       "    <tr>\n",
       "      <th>AED</th>\n",
       "      <td>3.857285</td>\n",
       "    </tr>\n",
       "    <tr>\n",
       "      <th>AFN</th>\n",
       "      <td>82.345557</td>\n",
       "    </tr>\n",
       "    <tr>\n",
       "      <th>ALL</th>\n",
       "      <td>106.764077</td>\n",
       "    </tr>\n",
       "    <tr>\n",
       "      <th>AMD</th>\n",
       "      <td>408.671930</td>\n",
       "    </tr>\n",
       "    <tr>\n",
       "      <th>ANG</th>\n",
       "      <td>1.899691</td>\n",
       "    </tr>\n",
       "  </tbody>\n",
       "</table>\n",
       "</div>"
      ],
      "text/plain": [
       "          rates\n",
       "AED    3.857285\n",
       "AFN   82.345557\n",
       "ALL  106.764077\n",
       "AMD  408.671930\n",
       "ANG    1.899691"
      ]
     },
     "execution_count": 11,
     "metadata": {},
     "output_type": "execute_result"
    }
   ],
   "source": [
    "df = df.drop(columns=['timestamp', 'date'])\n",
    "df.head()"
   ]
  },
  {
   "cell_type": "code",
   "execution_count": 26,
   "metadata": {},
   "outputs": [],
   "source": [
    "# Save the Dataframe\n",
    "df.to_csv('exchange_rates_1.csv')"
   ]
  },
  {
   "cell_type": "code",
   "execution_count": null,
   "metadata": {},
   "outputs": [],
   "source": []
  }
 ],
 "metadata": {
  "kernelspec": {
   "display_name": "python_DataEng_C2",
   "language": "python",
   "name": "python_dataeng_c2"
  },
  "language_info": {
   "codemirror_mode": {
    "name": "ipython",
    "version": 3
   },
   "file_extension": ".py",
   "mimetype": "text/x-python",
   "name": "python",
   "nbconvert_exporter": "python",
   "pygments_lexer": "ipython3",
   "version": "3.11.1"
  }
 },
 "nbformat": 4,
 "nbformat_minor": 4
}
